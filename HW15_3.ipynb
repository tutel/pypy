{
 "cells": [
  {
   "cell_type": "code",
   "execution_count": 1,
   "metadata": {},
   "outputs": [
    {
     "name": "stdout",
     "output_type": "stream",
     "text": [
      "輸入中獎號碼6位569126\n"
     ]
    }
   ],
   "source": [
    "a = input(\"輸入中獎號碼6位\")\n",
    "m1 = 200000\n",
    "m2 = 10000\n",
    "m3 = 4000\n",
    "m4 = 1000"
   ]
  },
  {
   "cell_type": "code",
   "execution_count": null,
   "metadata": {},
   "outputs": [],
   "source": []
  },
  {
   "cell_type": "code",
   "execution_count": null,
   "metadata": {},
   "outputs": [],
   "source": []
  },
  {
   "cell_type": "code",
   "execution_count": null,
   "metadata": {},
   "outputs": [],
   "source": []
  },
  {
   "cell_type": "code",
   "execution_count": null,
   "metadata": {},
   "outputs": [],
   "source": []
  },
  {
   "cell_type": "code",
   "execution_count": 4,
   "metadata": {},
   "outputs": [
    {
     "name": "stdout",
     "output_type": "stream",
     "text": [
      "輸入發票六碼469126\n",
      "恭喜中貳獎，獎金10000元\n"
     ]
    }
   ],
   "source": [
    "b = input('輸入發票六碼')\n",
    "\n",
    "if a == b:\n",
    "    x = '頭'\n",
    "    print(f'恭喜中{x}獎，獎金{m1}元')\n",
    "elif a[1:] == b[1:]:\n",
    "    x = '貳'\n",
    "    print(f'恭喜中{x}獎，獎金{m2}元')\n",
    "elif a[2:] == b[2:]:\n",
    "    x = '參'\n",
    "    print(f'恭喜中{x}獎，獎金{m3}元')\n",
    "elif a[3:] == b[3:]:\n",
    "    x = '肆'\n",
    "    print(f'恭喜中{x}獎，獎金{m4}元')\n",
    "else :\n",
    "    print('沒中')"
   ]
  },
  {
   "cell_type": "code",
   "execution_count": null,
   "metadata": {},
   "outputs": [],
   "source": []
  }
 ],
 "metadata": {
  "kernelspec": {
   "display_name": "Python 3",
   "language": "python",
   "name": "python3"
  },
  "language_info": {
   "codemirror_mode": {
    "name": "ipython",
    "version": 3
   },
   "file_extension": ".py",
   "mimetype": "text/x-python",
   "name": "python",
   "nbconvert_exporter": "python",
   "pygments_lexer": "ipython3",
   "version": "3.7.3"
  }
 },
 "nbformat": 4,
 "nbformat_minor": 2
}
