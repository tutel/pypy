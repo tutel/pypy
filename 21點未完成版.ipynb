{
 "cells": [
  {
   "cell_type": "markdown",
   "metadata": {},
   "source": [
    "# 只能抽單張的21點\n",
    "因為我現在腦袋卡住了OAO"
   ]
  },
  {
   "cell_type": "code",
   "execution_count": 6,
   "metadata": {},
   "outputs": [],
   "source": [
    "%matplotlib inline\n",
    "import matplotlib.pyplot as plt\n",
    "import numpy as np\n",
    "import pandas as pd\n",
    "from numpy.random import randint"
   ]
  },
  {
   "cell_type": "code",
   "execution_count": 7,
   "metadata": {},
   "outputs": [],
   "source": [
    "class Card:    \n",
    "    SUITS = ['♠','♥','♣','♦']\n",
    "    RANKS = ['A','2','3','4','5','6','7','8','9','10','J','Q','K']\n",
    "    \n",
    "    def __init__(self,s,r):\n",
    "        self.suit = s\n",
    "        self.rank = r\n",
    "    \n",
    "    def __repr__(self):\n",
    "        thecard = self.SUITS[self.suit] + self.RANKS[self.rank]\n",
    "        return thecard"
   ]
  },
  {
   "cell_type": "code",
   "execution_count": 12,
   "metadata": {},
   "outputs": [
    {
     "name": "stdout",
     "output_type": "stream",
     "text": [
      "♠2\n",
      "是否繼續抽?y\n",
      "2\n",
      "♠10\n",
      "是否繼續抽?y\n",
      "12\n",
      "♦8\n",
      "是否繼續抽?y\n",
      "20\n",
      "♦4\n",
      "是否繼續抽?n\n",
      "24\n"
     ]
    }
   ],
   "source": [
    "x = '數字'\n",
    "a = 0\n",
    "while x != 'n':\n",
    "    s = randint(0,4)\n",
    "    r = randint(0,12)\n",
    "    card = Card(s,r)\n",
    "    print(card)\n",
    "    a = a + r + 1\n",
    "    x = input('是否繼續抽?')\n",
    "    if x == 'n' or '否':\n",
    "        print(a)\n",
    "    if a >= 22:\n",
    "        print('你輸了')"
   ]
  },
  {
   "cell_type": "code",
   "execution_count": null,
   "metadata": {},
   "outputs": [],
   "source": []
  }
 ],
 "metadata": {
  "kernelspec": {
   "display_name": "Python 3",
   "language": "python",
   "name": "python3"
  },
  "language_info": {
   "codemirror_mode": {
    "name": "ipython",
    "version": 3
   },
   "file_extension": ".py",
   "mimetype": "text/x-python",
   "name": "python",
   "nbconvert_exporter": "python",
   "pygments_lexer": "ipython3",
   "version": "3.7.3"
  }
 },
 "nbformat": 4,
 "nbformat_minor": 2
}
