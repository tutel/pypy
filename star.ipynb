{
 "cells": [
  {
   "cell_type": "code",
   "execution_count": 2,
   "metadata": {},
   "outputs": [
    {
     "name": "stdout",
     "output_type": "stream",
     "text": [
      "請輸入你的西元年\n",
      "2000\n",
      "請輸入你的月份2位數\n",
      "09\n",
      "請輸入你的天數2位數\n",
      "05\n"
     ]
    }
   ],
   "source": [
    "y = input(\"請輸入你的西元年\\n\")\n",
    "m = input(\"請輸入你的月份2位數\\n\") \n",
    "\n",
    "d = input(\"請輸入你的天數2位數\\n\")\n"
   ]
  },
  {
   "cell_type": "code",
   "execution_count": null,
   "metadata": {},
   "outputs": [],
   "source": []
  },
  {
   "cell_type": "code",
   "execution_count": 3,
   "metadata": {},
   "outputs": [],
   "source": [
    "\n",
    "m = int(m)\n",
    "d = int(d)"
   ]
  },
  {
   "cell_type": "code",
   "execution_count": 6,
   "metadata": {},
   "outputs": [
    {
     "name": "stdout",
     "output_type": "stream",
     "text": [
      "處女\n"
     ]
    }
   ],
   "source": [
    "if m == 1:\n",
    "    if d>=1 and d<20:\n",
    "        print('魔羯')\n",
    "    elif d>=20 and d<=31:\n",
    "        print('水瓶')\n",
    "    else:\n",
    "        print('輸入錯誤')\n",
    "elif m == 2:\n",
    "    if d>=1 and d<19:\n",
    "        print('水瓶')\n",
    "    elif d>=19 and d<=29:\n",
    "        print('雙魚')\n",
    "    else:\n",
    "        print('輸入錯誤2')\n",
    "elif m == 3:\n",
    "    if d>=1 and d<21:\n",
    "        print('雙魚')\n",
    "    elif d>=21 and d<=31:\n",
    "        print('牡羊')\n",
    "    else:\n",
    "        print('輸入錯誤')\n",
    "elif m == 4:\n",
    "    if d>=1 and d<20:\n",
    "        print('牡羊') \n",
    "    elif d>=20 and d<=31:\n",
    "        print('金牛')\n",
    "    else:\n",
    "        print('輸入錯誤')\n",
    "elif m == 5:\n",
    "    if d>=1 and d<20:\n",
    "        print('金牛')\n",
    "    elif d>=21 and d<=31:\n",
    "        print('雙子')\n",
    "    else:\n",
    "        print('輸入錯誤')\n",
    "elif m == 6:\n",
    "    if d>=1 and d<20:\n",
    "        print('雙子')\n",
    "    elif d>=21 and d<=31:\n",
    "        print('巨蟹')\n",
    "    else:\n",
    "        print('輸入錯誤')\n",
    "elif m == 7:\n",
    "    if d>=1 and d<22:\n",
    "        print('巨蟹')\n",
    "    elif d>=23 and d<=31:\n",
    "        print('獅子')\n",
    "    else:\n",
    "        print('輸入錯誤')\n",
    "elif m == 8:\n",
    "    if d>=1 and d<22:\n",
    "        print('獅子')\n",
    "    elif d>=23 and d<=31:\n",
    "        print('處女')\n",
    "    else:\n",
    "        print('輸入錯誤2')\n",
    "elif m == 9:\n",
    "    if d>=1 and d<22:\n",
    "        print('處女')\n",
    "    elif d>=23 and d<=31:\n",
    "        print('天秤')\n",
    "    else:\n",
    "        print('輸入錯誤')\n",
    "elif m == 10:\n",
    "    if d>=1 and d<22:\n",
    "        print('天秤')\n",
    "    elif d>=23 and d<=31:\n",
    "        print('天蠍')\n",
    "    else:\n",
    "        print('輸入錯誤')\n",
    "elif m == 11:\n",
    "    if d>=1 and d<22:\n",
    "        print('天蠍')\n",
    "    elif d>=22 and d<=31:\n",
    "        print('射手')\n",
    "    else:\n",
    "        print('輸入錯誤')\n",
    "elif m == 12:\n",
    "    if d>=1 and d<22:\n",
    "        print('射手')\n",
    "    elif d>=22 and d<=31:\n",
    "        print('魔羯')\n",
    "    else:\n",
    "        print('輸入錯誤')\n",
    "\n",
    "else:\n",
    "    print('輸入錯誤')"
   ]
  },
  {
   "cell_type": "code",
   "execution_count": null,
   "metadata": {},
   "outputs": [],
   "source": []
  },
  {
   "cell_type": "code",
   "execution_count": null,
   "metadata": {},
   "outputs": [],
   "source": []
  },
  {
   "cell_type": "code",
   "execution_count": null,
   "metadata": {},
   "outputs": [],
   "source": []
  },
  {
   "cell_type": "code",
   "execution_count": null,
   "metadata": {},
   "outputs": [],
   "source": []
  }
 ],
 "metadata": {
  "kernelspec": {
   "display_name": "Python 3",
   "language": "python",
   "name": "python3"
  },
  "language_info": {
   "codemirror_mode": {
    "name": "ipython",
    "version": 3
   },
   "file_extension": ".py",
   "mimetype": "text/x-python",
   "name": "python",
   "nbconvert_exporter": "python",
   "pygments_lexer": "ipython3",
   "version": "3.7.3"
  }
 },
 "nbformat": 4,
 "nbformat_minor": 2
}
