{
 "cells": [
  {
   "cell_type": "code",
   "execution_count": 15,
   "metadata": {},
   "outputs": [],
   "source": [
    "%matplotlib inline\n",
    "import matplotlib.pyplot as plt\n",
    "import numpy as np\n",
    "import pandas as pd\n",
    "import sympy as sp\n",
    "from sympy import S"
   ]
  },
  {
   "cell_type": "code",
   "execution_count": 3,
   "metadata": {},
   "outputs": [],
   "source": [
    "A = sp.Matrix([[1,2],[2,5]])"
   ]
  },
  {
   "cell_type": "code",
   "execution_count": 4,
   "metadata": {},
   "outputs": [
    {
     "data": {
      "text/latex": [
       "$\\displaystyle \\left[\\begin{matrix}1 & 2\\\\2 & 5\\end{matrix}\\right]$"
      ],
      "text/plain": [
       "Matrix([\n",
       "[1, 2],\n",
       "[2, 5]])"
      ]
     },
     "execution_count": 4,
     "metadata": {},
     "output_type": "execute_result"
    }
   ],
   "source": [
    "A"
   ]
  },
  {
   "cell_type": "code",
   "execution_count": 5,
   "metadata": {},
   "outputs": [
    {
     "name": "stdout",
     "output_type": "stream",
     "text": [
      "輸入九個整數以空格隔開1 1  1 1 1 1 1 1 1 1\n"
     ]
    }
   ],
   "source": [
    "numbers = input(\"輸入九個整數以空格隔開\")"
   ]
  },
  {
   "cell_type": "code",
   "execution_count": 6,
   "metadata": {},
   "outputs": [
    {
     "data": {
      "text/plain": [
       "'1 1  1 1 1 1 1 1 1 1'"
      ]
     },
     "execution_count": 6,
     "metadata": {},
     "output_type": "execute_result"
    }
   ],
   "source": [
    "numbers"
   ]
  },
  {
   "cell_type": "code",
   "execution_count": 7,
   "metadata": {},
   "outputs": [],
   "source": [
    "List = numbers.split()"
   ]
  },
  {
   "cell_type": "code",
   "execution_count": 8,
   "metadata": {},
   "outputs": [
    {
     "data": {
      "text/plain": [
       "str"
      ]
     },
     "execution_count": 8,
     "metadata": {},
     "output_type": "execute_result"
    }
   ],
   "source": [
    "type(List[0])"
   ]
  },
  {
   "cell_type": "code",
   "execution_count": 9,
   "metadata": {},
   "outputs": [],
   "source": [
    "x1 = int(List[0])\n",
    "x2 = int(List[1])\n",
    "x3 = int(List[2])\n",
    "x4 = int(List[3])\n",
    "x5 = int(List[4])\n",
    "x6 = int(List[5])\n",
    "x7 = int(List[6])\n",
    "x8 = int(List[7])\n",
    "x9 = int(List[8])"
   ]
  },
  {
   "cell_type": "code",
   "execution_count": 10,
   "metadata": {},
   "outputs": [
    {
     "data": {
      "text/plain": [
       "int"
      ]
     },
     "execution_count": 10,
     "metadata": {},
     "output_type": "execute_result"
    }
   ],
   "source": [
    "type(x1)"
   ]
  },
  {
   "cell_type": "code",
   "execution_count": 11,
   "metadata": {},
   "outputs": [],
   "source": [
    "Q = sp.Matrix([[x1,x2,x3],[x4,x5,x6],[x7,x8,x9]])"
   ]
  },
  {
   "cell_type": "code",
   "execution_count": 12,
   "metadata": {},
   "outputs": [
    {
     "data": {
      "text/latex": [
       "$\\displaystyle \\left[\\begin{matrix}1 & 1 & 1\\\\1 & 1 & 1\\\\1 & 1 & 1\\end{matrix}\\right]$"
      ],
      "text/plain": [
       "Matrix([\n",
       "[1, 1, 1],\n",
       "[1, 1, 1],\n",
       "[1, 1, 1]])"
      ]
     },
     "execution_count": 12,
     "metadata": {},
     "output_type": "execute_result"
    }
   ],
   "source": [
    "Q"
   ]
  },
  {
   "cell_type": "code",
   "execution_count": 13,
   "metadata": {},
   "outputs": [
    {
     "data": {
      "text/latex": [
       "$\\displaystyle \\left[\\begin{matrix}1 & 1 & 1\\\\1 & 1 & 1\\\\1 & 1 & 1\\end{matrix}\\right]$"
      ],
      "text/plain": [
       "Matrix([\n",
       "[1, 1, 1],\n",
       "[1, 1, 1],\n",
       "[1, 1, 1]])"
      ]
     },
     "execution_count": 13,
     "metadata": {},
     "output_type": "execute_result"
    }
   ],
   "source": [
    "Q"
   ]
  },
  {
   "cell_type": "code",
   "execution_count": 14,
   "metadata": {},
   "outputs": [
    {
     "name": "stdout",
     "output_type": "stream",
     "text": [
      "輸入九個整數以空格隔開1 2 3 4 5 6 7 8 8\n"
     ]
    }
   ],
   "source": [
    "numbers = input(\"輸入九個整數以空格隔開\")\n",
    "List = numbers.split()\n",
    "x1 = float(List[0])\n",
    "x2 = float(List[1])\n",
    "x3 = float(List[2])\n",
    "x4 = float(List[3])\n",
    "x5 = float(List[4])\n",
    "x6 = float(List[5])\n",
    "x7 = float(List[6])\n",
    "x8 = float(List[7])\n",
    "x9 = float(List[8])\n",
    "A = sp.Matrix([[x1,x2,x3],[x4,x5,x6],[x7,x8,x9]])\n",
    "n = A.det()\n",
    "\n",
    "    "
   ]
  },
  {
   "cell_type": "code",
   "execution_count": 28,
   "metadata": {},
   "outputs": [],
   "source": [
    "A1 = sp.Matrix([[x5,x6],[x8,x9]])\n",
    "A2 = sp.Matrix([[x2,x3],[x8,x9]])\n",
    "A3 = sp.Matrix([[x2,x3],[x5,x6]])\n",
    "A4 = sp.Matrix([[x4,x6],[x7,x9]])\n",
    "A5 = sp.Matrix([[x1,x3],[x7,x9]])\n",
    "A6 = sp.Matrix([[x1,x3],[x4,x6]])\n",
    "A7 = sp.Matrix([[x4,x5],[x7,x8]])\n",
    "A8 = sp.Matrix([[x1,x2],[x7,x8]])\n",
    "A9 = sp.Matrix([[x1,x2],[x4,x5]])\n",
    "C = (1/n)*sp.Matrix([[A1.det(),-A2.det(),A3.det()],[-A4.det(),A5.det(),-A6.det()],[A7.det(),-A8.det(),A9.det()]])"
   ]
  },
  {
   "cell_type": "code",
   "execution_count": 29,
   "metadata": {},
   "outputs": [
    {
     "data": {
      "text/latex": [
       "$\\displaystyle \\left[\\begin{matrix}-2.66666666666667 & 2.66666666666667 & -1.0\\\\3.33333333333333 & -4.33333333333333 & 2.0\\\\-1.0 & 2.0 & -1.0\\end{matrix}\\right]$"
      ],
      "text/plain": [
       "Matrix([\n",
       "[-2.66666666666667,  2.66666666666667, -1.0],\n",
       "[ 3.33333333333333, -4.33333333333333,  2.0],\n",
       "[             -1.0,               2.0, -1.0]])"
      ]
     },
     "execution_count": 29,
     "metadata": {},
     "output_type": "execute_result"
    }
   ],
   "source": [
    "C"
   ]
  },
  {
   "cell_type": "markdown",
   "metadata": {},
   "source": [
    "# 其實只要用A.inv()就好"
   ]
  },
  {
   "cell_type": "code",
   "execution_count": null,
   "metadata": {},
   "outputs": [],
   "source": []
  }
 ],
 "metadata": {
  "kernelspec": {
   "display_name": "Python 3",
   "language": "python",
   "name": "python3"
  },
  "language_info": {
   "codemirror_mode": {
    "name": "ipython",
    "version": 3
   },
   "file_extension": ".py",
   "mimetype": "text/x-python",
   "name": "python",
   "nbconvert_exporter": "python",
   "pygments_lexer": "ipython3",
   "version": "3.7.3"
  }
 },
 "nbformat": 4,
 "nbformat_minor": 2
}
