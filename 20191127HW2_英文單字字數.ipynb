{
 "cells": [
  {
   "cell_type": "code",
   "execution_count": 1,
   "metadata": {},
   "outputs": [
    {
     "name": "stdout",
     "output_type": "stream",
     "text": [
      "這篇文章的字數是11\n",
      "想查甚麼的出現次數單字?(沒有要查詢可直接按_略過)\n",
      "you\n",
      "you共出現3次\n"
     ]
    }
   ],
   "source": [
    "file_reading=open('writing.txt', 'r', encoding='utf-8')\n",
    "vocab_lines=file_reading.readlines()\n",
    "file_reading.close()\n",
    "\n",
    "vocab=[]\n",
    "for line in vocab_lines:\n",
    "    per_vocab = line.split()\n",
    "    for word in per_vocab:\n",
    "        vocab.append(word)\n",
    "\n",
    "print('這篇文章的字數是'+str(len(vocab)))\n",
    "\n",
    "n = 0\n",
    "search = input(\"想查甚麼的出現次數單字?(沒有要查詢可直接按_略過)\\n\")\n",
    "if search!= '_':\n",
    "    for word in vocab:\n",
    "        n += word.lower().count(search)\n",
    "    print(search+'共出現'+str(n)+'次')\n"
   ]
  },
  {
   "cell_type": "code",
   "execution_count": 2,
   "metadata": {},
   "outputs": [
    {
     "data": {
      "text/plain": [
       "11"
      ]
     },
     "execution_count": 2,
     "metadata": {},
     "output_type": "execute_result"
    }
   ],
   "source": [
    "len(vocab)"
   ]
  },
  {
   "cell_type": "code",
   "execution_count": null,
   "metadata": {},
   "outputs": [],
   "source": []
  }
 ],
 "metadata": {
  "kernelspec": {
   "display_name": "Python 3",
   "language": "python",
   "name": "python3"
  },
  "language_info": {
   "codemirror_mode": {
    "name": "ipython",
    "version": 3
   },
   "file_extension": ".py",
   "mimetype": "text/x-python",
   "name": "python",
   "nbconvert_exporter": "python",
   "pygments_lexer": "ipython3",
   "version": "3.7.3"
  }
 },
 "nbformat": 4,
 "nbformat_minor": 2
}
