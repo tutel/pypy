{
 "cells": [
  {
   "cell_type": "code",
   "execution_count": 2,
   "metadata": {},
   "outputs": [],
   "source": []
  },
  {
   "cell_type": "code",
   "execution_count": 86,
   "metadata": {},
   "outputs": [
    {
     "name": "stdout",
     "output_type": "stream",
     "text": [
      "*\n",
      "**\n",
      "***\n",
      "****\n",
      "***\n",
      "**\n",
      "*\n"
     ]
    }
   ],
   "source": [
    "h = 0\n",
    "n=0\n",
    "h1=4\n",
    "n1=4\n",
    "for h in range(0,4):\n",
    "    print(\"*\",end=\"\")        \n",
    "    for n in range(0,h) :\n",
    "        print(\"*\",end=\"\")\n",
    "        n=n+1        \n",
    "    print(\"\")        \n",
    "    h=h+1    \n",
    "for h1 in range(h1,7):\n",
    "    print(\"*\",end=\"\")        \n",
    "    for n1 in range(h1,6) :\n",
    "        print(\"*\",end=\"\")\n",
    "        n1=n1-1        \n",
    "    print(\"\")        \n",
    "    h1=h1-1  \n"
   ]
  },
  {
   "cell_type": "code",
   "execution_count": null,
   "metadata": {},
   "outputs": [],
   "source": []
  },
  {
   "cell_type": "code",
   "execution_count": null,
   "metadata": {},
   "outputs": [],
   "source": []
  }
 ],
 "metadata": {
  "kernelspec": {
   "display_name": "Python 3",
   "language": "python",
   "name": "python3"
  },
  "language_info": {
   "codemirror_mode": {
    "name": "ipython",
    "version": 3
   },
   "file_extension": ".py",
   "mimetype": "text/x-python",
   "name": "python",
   "nbconvert_exporter": "python",
   "pygments_lexer": "ipython3",
   "version": "3.7.3"
  }
 },
 "nbformat": 4,
 "nbformat_minor": 2
}
