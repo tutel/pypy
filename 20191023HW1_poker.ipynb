{
 "cells": [
  {
   "cell_type": "code",
   "execution_count": 6,
   "metadata": {},
   "outputs": [],
   "source": [
    "%matplotlib inline\n",
    "import matplotlib.pyplot as plt\n",
    "import numpy as np\n",
    "import pandas as pd\n",
    "from numpy.random import randint"
   ]
  },
  {
   "cell_type": "code",
   "execution_count": 56,
   "metadata": {},
   "outputs": [],
   "source": [
    "class Card:    \n",
    "    SUITS = ['♠','♥','♣','♦']\n",
    "    RANKS = ['A','2','3','4','5','6','7','8','9','10','J','Q','K']\n",
    "    \n",
    "    def __init__(self,s,r):\n",
    "        self.suit = s\n",
    "        self.rank = r\n",
    "    \n",
    "    def __repr__(self):\n",
    "        thecard = self.SUITS[self.suit] + self.RANKS[self.rank]\n",
    "        return thecard\n",
    "    "
   ]
  },
  {
   "cell_type": "code",
   "execution_count": 57,
   "metadata": {},
   "outputs": [],
   "source": [
    "s = randint(0,4)\n",
    "r = randint(0,12)\n",
    "card = Card(s,r)"
   ]
  },
  {
   "cell_type": "code",
   "execution_count": 58,
   "metadata": {},
   "outputs": [
    {
     "data": {
      "text/plain": [
       "♥Q"
      ]
     },
     "execution_count": 58,
     "metadata": {},
     "output_type": "execute_result"
    }
   ],
   "source": [
    "card"
   ]
  },
  {
   "cell_type": "code",
   "execution_count": 47,
   "metadata": {},
   "outputs": [
    {
     "name": "stdout",
     "output_type": "stream",
     "text": [
      "要抽幾張牌4\n"
     ]
    }
   ],
   "source": [
    "a = input('要抽幾張牌')\n",
    "a = int(a)"
   ]
  },
  {
   "cell_type": "code",
   "execution_count": 59,
   "metadata": {},
   "outputs": [
    {
     "name": "stdout",
     "output_type": "stream",
     "text": [
      "♠4\n",
      "♠3\n",
      "♣7\n",
      "♣5\n"
     ]
    }
   ],
   "source": [
    "for i in range(0,a):\n",
    "    s = randint(0,4)\n",
    "    r = randint(0,12)\n",
    "    card = Card(s,r)\n",
    "    print(card)"
   ]
  },
  {
   "cell_type": "code",
   "execution_count": null,
   "metadata": {},
   "outputs": [],
   "source": []
  },
  {
   "cell_type": "code",
   "execution_count": null,
   "metadata": {},
   "outputs": [],
   "source": []
  }
 ],
 "metadata": {
  "kernelspec": {
   "display_name": "Python 3",
   "language": "python",
   "name": "python3"
  },
  "language_info": {
   "codemirror_mode": {
    "name": "ipython",
    "version": 3
   },
   "file_extension": ".py",
   "mimetype": "text/x-python",
   "name": "python",
   "nbconvert_exporter": "python",
   "pygments_lexer": "ipython3",
   "version": "3.7.3"
  }
 },
 "nbformat": 4,
 "nbformat_minor": 2
}
