{
 "cells": [
  {
   "cell_type": "code",
   "execution_count": 1,
   "metadata": {},
   "outputs": [
    {
     "name": "stdout",
     "output_type": "stream",
     "text": [
      "想列出誰的倍數?1\n",
      "這個程式會印出使用者輸入的起始與結尾數字區間內所有1的倍數\n",
      "請輸入起始數字:1\n",
      "請輸入結尾數字:56\n",
      "1 2 3 4 5 6 7 8 9 10 11 12 13 14 15 16 17 18 19 20 21 22 23 24 25 26 27 28 29 30 31 32 33 34 35 36 37 38 39 40 41 42 43 44 45 46 47 48 49 50 51 52 53 54 55 56 "
     ]
    }
   ],
   "source": [
    "x = int(input(\"想列出誰的倍數?\"))\n",
    "print(f'這個程式會印出使用者輸入的起始與結尾數字區間內所有{x}的倍數')\n",
    "s1=int(input('請輸入起始數字:'))\n",
    "s2=int(input('請輸入結尾數字:'))\n",
    "\n",
    "for i in range(s1,s2+1):\n",
    "    if(i % x != 0):\n",
    "        continue   #碰到不能被7整除的數字就跳過這一輪的迴圈，執行下一輪的迴圈\n",
    "    print ('{0:d}'.format(i), end=' ')\n"
   ]
  },
  {
   "cell_type": "code",
   "execution_count": null,
   "metadata": {},
   "outputs": [],
   "source": []
  }
 ],
 "metadata": {
  "kernelspec": {
   "display_name": "Python 3",
   "language": "python",
   "name": "python3"
  },
  "language_info": {
   "codemirror_mode": {
    "name": "ipython",
    "version": 3
   },
   "file_extension": ".py",
   "mimetype": "text/x-python",
   "name": "python",
   "nbconvert_exporter": "python",
   "pygments_lexer": "ipython3",
   "version": "3.7.3"
  }
 },
 "nbformat": 4,
 "nbformat_minor": 2
}
