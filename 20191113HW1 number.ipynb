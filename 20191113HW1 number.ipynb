{
 "cells": [
  {
   "cell_type": "code",
   "execution_count": 1,
   "metadata": {},
   "outputs": [
    {
     "name": "stdout",
     "output_type": "stream",
     "text": [
      "請猜一個1-100之間的數字:45\n",
      "請再猜一個大一點的數字。在45到100之間\n",
      "請猜一個1-100之間的數字:35\n",
      "請再猜一個大一點的數字。在35到100之間\n",
      "請猜一個1-100之間的數字:78\n",
      "請再猜一個大一點的數字。在78到100之間\n",
      "請猜一個1-100之間的數字:89\n",
      "請再猜一個小一點的數字。在78到89\n",
      "請猜一個1-100之間的數字:79\n",
      "請再猜一個大一點的數字。在79到89之間\n",
      "請猜一個1-100之間的數字:85\n",
      "請再猜一個小一點的數字。在79到85\n",
      "請猜一個1-100之間的數字:83\n",
      "請再猜一個小一點的數字。在79到83\n",
      "請猜一個1-100之間的數字:82\n",
      "恭喜你猜對了，數字是: 82\n"
     ]
    }
   ],
   "source": [
    "from random import randint #匯入random這個模組\n",
    "number = randint(1,100)  #使用random這個模組中的randint()這個函數，來隨機產生一個1~100間的整數\n",
    "a = 1\n",
    "b = 100\n",
    "while True:\n",
    "    guess_num = int(input('請猜一個1-100之間的數字:'))\n",
    "    if guess_num == number:\n",
    "        print('恭喜你猜對了，數字是:',number)\n",
    "        break     #猜對後，就離開while迴圈，不讓迴圈一直執行下去\n",
    "    elif guess_num > number:\n",
    "        b = guess_num\n",
    "        print(f'請再猜一個小一點的數字。在{a}到{b}')\n",
    "    elif guess_num < number:\n",
    "        a = guess_num\n",
    "        print(f'請再猜一個大一點的數字。在{a}到{b}之間')"
   ]
  },
  {
   "cell_type": "code",
   "execution_count": null,
   "metadata": {},
   "outputs": [],
   "source": []
  }
 ],
 "metadata": {
  "kernelspec": {
   "display_name": "Python 3",
   "language": "python",
   "name": "python3"
  },
  "language_info": {
   "codemirror_mode": {
    "name": "ipython",
    "version": 3
   },
   "file_extension": ".py",
   "mimetype": "text/x-python",
   "name": "python",
   "nbconvert_exporter": "python",
   "pygments_lexer": "ipython3",
   "version": "3.7.3"
  }
 },
 "nbformat": 4,
 "nbformat_minor": 2
}
