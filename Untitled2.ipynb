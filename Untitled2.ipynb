{
 "cells": [
  {
   "cell_type": "code",
   "execution_count": 1,
   "metadata": {},
   "outputs": [],
   "source": [
    "L = ['美金','歐元','泰銖','人民幣']"
   ]
  },
  {
   "cell_type": "code",
   "execution_count": 5,
   "metadata": {},
   "outputs": [],
   "source": [
    "from ipywidgets import interact_manual"
   ]
  },
  {
   "cell_type": "code",
   "execution_count": null,
   "metadata": {},
   "outputs": [],
   "source": [
    "def exchange(x):\n",
    "    s = input('轉換貨幣')\n",
    "    if s in L:\n",
    "        money = input('要轉換的面額')\n",
    "        if s == '美金':\n",
    "            c = 31\n",
    "            print('轉換出來的是',money*c,'元')\n",
    "        elif s == '歐元':\n",
    "            c = 31\n",
    "            print('轉換出來的是',money*c,'元')\n",
    "        elif s == '泰銖':\n",
    "            c = 31\n",
    "            print('轉換出來的是',money*c,'元')\n",
    "        else :\n",
    "            c = 4.4\n",
    "            print('轉換出來的是',money*c,'元')\n",
    "    "
   ]
  },
  {
   "cell_type": "code",
   "execution_count": 4,
   "metadata": {},
   "outputs": [
    {
     "name": "stdout",
     "output_type": "stream",
     "text": [
      "O\n"
     ]
    }
   ],
   "source": [
    "interact_manual\n",
    "\n"
   ]
  },
  {
   "cell_type": "code",
   "execution_count": null,
   "metadata": {},
   "outputs": [],
   "source": [
    "if string in L:\n",
    "    money = input('要轉換的面額')\n",
    "    if string == '美金':\n",
    "        c = 31\n",
    "        print('轉換出來的是',money*c,'元')\n",
    "    elif string == '歐元':\n",
    "        c = 31\n",
    "        print('轉換出來的是',money*c,'元')\n",
    "    elif string == '美金':\n",
    "        c = 31\n",
    "        print('轉換出來的是',money*c,'元')\n",
    "    else :0\n",
    "        c = 31\n",
    "        print('轉換出來的是',money*c,'元')\n"
   ]
  }
 ],
 "metadata": {
  "kernelspec": {
   "display_name": "Python 3",
   "language": "python",
   "name": "python3"
  },
  "language_info": {
   "codemirror_mode": {
    "name": "ipython",
    "version": 3
   },
   "file_extension": ".py",
   "mimetype": "text/x-python",
   "name": "python",
   "nbconvert_exporter": "python",
   "pygments_lexer": "ipython3",
   "version": "3.7.3"
  }
 },
 "nbformat": 4,
 "nbformat_minor": 2
}
