{
 "cells": [
  {
   "cell_type": "code",
   "execution_count": 2,
   "metadata": {},
   "outputs": [],
   "source": [
    "%matplotlib inline\n",
    "import matplotlib.pyplot as plt\n",
    "import numpy as np\n",
    "import pandas as pd"
   ]
  },
  {
   "cell_type": "code",
   "execution_count": 5,
   "metadata": {},
   "outputs": [
    {
     "name": "stdout",
     "output_type": "stream",
     "text": [
      "請輸入你的西元年\n",
      "2000\n",
      "請輸入你的月份2位數\n",
      "10\n",
      "請輸入你的天數2位數\n",
      "25\n",
      "你的幸運密碼是1\n"
     ]
    }
   ],
   "source": [
    "y = input(\"請輸入你的西元年\\n\")\n",
    "m = input(\"請輸入你的月份2位數\\n\") \n",
    "d = input(\"請輸入你的天數2位數\\n\")\n",
    "a = int(y[0]) + int(y[1]) + int(y[2]) + int(y[3])\n",
    "b = int(m[0]) + int(m[1])\n",
    "c = int(d[0]) + int(d[1])\n",
    "Lucky = 0\n",
    "Lucky = a+b+c\n",
    "if Lucky>9:\n",
    "    d1 = str(Lucky)\n",
    "    Lucky = int(d1[1]) + int(d1[0])\n",
    "    print(\"你的幸運密碼是\"+str(Lucky))\n",
    "else:\n",
    "    print(\"你的幸運密碼是\"+str(Lucky))"
   ]
  },
  {
   "cell_type": "code",
   "execution_count": null,
   "metadata": {},
   "outputs": [],
   "source": []
  }
 ],
 "metadata": {
  "kernelspec": {
   "display_name": "Python 3",
   "language": "python",
   "name": "python3"
  },
  "language_info": {
   "codemirror_mode": {
    "name": "ipython",
    "version": 3
   },
   "file_extension": ".py",
   "mimetype": "text/x-python",
   "name": "python",
   "nbconvert_exporter": "python",
   "pygments_lexer": "ipython3",
   "version": "3.7.3"
  }
 },
 "nbformat": 4,
 "nbformat_minor": 2
}
