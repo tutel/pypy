{
 "cells": [
  {
   "cell_type": "markdown",
   "metadata": {},
   "source": [
    "# 成績單"
   ]
  },
  {
   "cell_type": "code",
   "execution_count": 1,
   "metadata": {},
   "outputs": [],
   "source": [
    "%matplotlib inline\n",
    "import matplotlib.pyplot as plt\n",
    "import numpy as np\n",
    "import pandas as pd"
   ]
  },
  {
   "cell_type": "code",
   "execution_count": 8,
   "metadata": {},
   "outputs": [],
   "source": [
    "Mary = 68.789\n",
    "Thomas = 74.6752\n",
    "William = 85\n",
    "a = '分數'\n",
    "format_str = \"Mary{0:>26.2f}\"\n",
    "format_str1 = \"Thomas{0:24.2f}\"\n",
    "format_str2 = \"William{0:23.2f}\""
   ]
  },
  {
   "cell_type": "code",
   "execution_count": 9,
   "metadata": {},
   "outputs": [
    {
     "name": "stdout",
     "output_type": "stream",
     "text": [
      "==============================\n",
      "學生姓名                   分數\n",
      "------------------------------\n",
      "Mary                     68.79\n",
      "Thomas                   74.68\n",
      "William                  85.00\n"
     ]
    }
   ],
   "source": [
    "print('='*30)\n",
    "print('學生姓名'+a.rjust(21))\n",
    "print(\"-\"*30)\n",
    "print(format_str.format(Mary))\n",
    "print(format_str1.format(Thomas))\n",
    "print(format_str2.format(William))"
   ]
  },
  {
   "cell_type": "markdown",
   "metadata": {},
   "source": [
    "## 我想輸入完一次print...\n",
    "## 但我不會༼☯﹏☯༽"
   ]
  },
  {
   "cell_type": "code",
   "execution_count": 7,
   "metadata": {},
   "outputs": [
    {
     "name": "stdout",
     "output_type": "stream",
     "text": [
      "輸入名子，不輸入就按nopuy\n",
      "成績56\n",
      "==============================\n",
      "名字                      成績\n",
      "------------------------------\n",
      "opuy                  56\n",
      "輸入名子，不輸入就按nklou\n",
      "成績456\n",
      "==============================\n",
      "名字                      成績\n",
      "------------------------------\n",
      "klou                 456\n",
      "輸入名子，不輸入就按nn\n"
     ]
    }
   ],
   "source": [
    "t = '成績'\n",
    "while (t != 'n'):\n",
    "    t = input('輸入名子，不輸入就按n')\n",
    "    if t == 'n':\n",
    "        break\n",
    "    else:\n",
    "        s = input('成績')\n",
    "    print('='*30)\n",
    "    print(\"名字\",' '*20,'成績')\n",
    "    print('-'*30)\n",
    "    print(t+s.rjust(20))"
   ]
  },
  {
   "cell_type": "code",
   "execution_count": null,
   "metadata": {},
   "outputs": [],
   "source": []
  },
  {
   "cell_type": "code",
   "execution_count": null,
   "metadata": {},
   "outputs": [],
   "source": []
  }
 ],
 "metadata": {
  "kernelspec": {
   "display_name": "Python 3",
   "language": "python",
   "name": "python3"
  },
  "language_info": {
   "codemirror_mode": {
    "name": "ipython",
    "version": 3
   },
   "file_extension": ".py",
   "mimetype": "text/x-python",
   "name": "python",
   "nbconvert_exporter": "python",
   "pygments_lexer": "ipython3",
   "version": "3.7.3"
  }
 },
 "nbformat": 4,
 "nbformat_minor": 2
}
