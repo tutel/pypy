{
 "cells": [
  {
   "cell_type": "code",
   "execution_count": 6,
   "metadata": {},
   "outputs": [],
   "source": [
    "%matplotlib inline\n",
    "import matplotlib.pyplot as plt\n",
    "import numpy as np\n",
    "import pandas as pd"
   ]
  },
  {
   "cell_type": "code",
   "execution_count": 5,
   "metadata": {},
   "outputs": [
    {
     "name": "stdout",
     "output_type": "stream",
     "text": [
      "早安，翹課仔(*´▽`*)\n"
     ]
    }
   ],
   "source": [
    "print('早安，翹課仔(*´▽`*)')"
   ]
  },
  {
   "cell_type": "code",
   "execution_count": 4,
   "metadata": {},
   "outputs": [
    {
     "name": "stdout",
     "output_type": "stream",
     "text": [
      "還有幾堂課?8\n",
      "這學期教授宣布總共會點幾次名?16\n",
      "目前為止教授點了幾次?0\n",
      "今天教授點名的機率為200.0%，再翹準備重修。\n"
     ]
    }
   ],
   "source": [
    "a = input('還有幾堂課?')\n",
    "b = input('這學期教授宣布總共會點幾次名?')\n",
    "c = input('目前為止教授點了幾次?')\n",
    "a = int(a)\n",
    "b = int(b)\n",
    "c = int(c)\n",
    "d = (b-c)/a\n",
    "if d < 0 or c > b :\n",
    "    print('是教授騙人還是翹課仔輸入錯啦(*´▽`*)')\n",
    "elif d < 0.3:\n",
    "    print(f'今天教授點名的機率為{d}%，這邊建議您回宿舍睡覺。')\n",
    "elif d>=0.3 and d<0.5:\n",
    "    print(f'今天教授點名的機率為{d}%，這邊建議您可能不用去。')\n",
    "elif d>=0.5 and d<0.7:\n",
    "    print(f'今天教授點名的機率為{d}%，這邊建議你去一下好了。')\n",
    "elif d>=0.7 and d<1:\n",
    "    print(f'今天教授點名的機率為{d}%，再翹準備重修')\n",
    "else:\n",
    "    print(f'今天教授點名的機率為{100*d}%，再翹準備重修。')"
   ]
  },
  {
   "cell_type": "code",
   "execution_count": null,
   "metadata": {},
   "outputs": [],
   "source": []
  }
 ],
 "metadata": {
  "kernelspec": {
   "display_name": "Python 3",
   "language": "python",
   "name": "python3"
  },
  "language_info": {
   "codemirror_mode": {
    "name": "ipython",
    "version": 3
   },
   "file_extension": ".py",
   "mimetype": "text/x-python",
   "name": "python",
   "nbconvert_exporter": "python",
   "pygments_lexer": "ipython3",
   "version": "3.7.3"
  }
 },
 "nbformat": 4,
 "nbformat_minor": 2
}
