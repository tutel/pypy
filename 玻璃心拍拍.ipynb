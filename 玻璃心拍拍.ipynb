{
 "cells": [
  {
   "cell_type": "code",
   "execution_count": null,
   "metadata": {},
   "outputs": [],
   "source": []
  },
  {
   "cell_type": "code",
   "execution_count": 1,
   "metadata": {},
   "outputs": [],
   "source": [
    "def pipi():\n",
    "    x = \"大力拍拍機器人\"\n",
    "    while x != \"掰\":\n",
    "        x = input(\":\")\n",
    "        if \"肚子好餓\" in x:\n",
    "            print(\"安九是一個好選擇\")\n",
    "        elif \"沒有錢\" in x:\n",
    "            print(\"政大有很多土可以吃阿\")\n",
    "        elif \"生氣\" in x:\n",
    "            print(\"你和程式碼講話講到生氣喔\")\n",
    "        elif \"掰\" in x:\n",
    "            break\n",
    "        else :\n",
    "            print(\"趕快打掰我要下班\")\n",
    "    print(\"掰\")"
   ]
  },
  {
   "cell_type": "code",
   "execution_count": 2,
   "metadata": {},
   "outputs": [
    {
     "name": "stdout",
     "output_type": "stream",
     "text": [
      ":我肚子好餓喔\n",
      "安九是一個好選擇\n",
      ":可是月底了我沒有錢\n",
      "政大有很多土可以吃阿\n",
      ":你這樣嗆我我會生氣喔\n",
      "你和程式碼講話講到生氣喔\n",
      ":不跟你說了掰\n",
      "掰\n"
     ]
    }
   ],
   "source": [
    "pipi()"
   ]
  },
  {
   "cell_type": "code",
   "execution_count": null,
   "metadata": {},
   "outputs": [],
   "source": []
  }
 ],
 "metadata": {
  "kernelspec": {
   "display_name": "Python 3",
   "language": "python",
   "name": "python3"
  },
  "language_info": {
   "codemirror_mode": {
    "name": "ipython",
    "version": 3
   },
   "file_extension": ".py",
   "mimetype": "text/x-python",
   "name": "python",
   "nbconvert_exporter": "python",
   "pygments_lexer": "ipython3",
   "version": "3.7.3"
  }
 },
 "nbformat": 4,
 "nbformat_minor": 2
}
