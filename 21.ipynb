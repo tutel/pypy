{
 "cells": [
  {
   "cell_type": "code",
   "execution_count": 1,
   "metadata": {},
   "outputs": [],
   "source": [
    "from random import *\n",
    "import os "
   ]
  },
  {
   "cell_type": "code",
   "execution_count": 37,
   "metadata": {},
   "outputs": [],
   "source": [
    "c = ['♠A','♠2','♠3','♠4','♠5','♠6','♠7','♠8','♠9','♠10','♠J','♠Q','♠K',\n",
    "     '♥A','♥2','♥3','♥4','♥5','♥6','♥7','♥8','♥9','♥10','♥J','♥Q','♥K',\n",
    "     '♣A','♣2','♣3','♣4','♣5','♣6','♣7','♣8','♣9','♣10','♣J','♣Q','♣K',\n",
    "     '♦A','♦2','♦3','♦4','♦5','♦6','♦7','♦8','♦9','♦10','♦J','♦Q','♦K']"
   ]
  },
  {
   "cell_type": "code",
   "execution_count": 45,
   "metadata": {},
   "outputs": [
    {
     "data": {
      "text/plain": [
       "[37, 15]"
      ]
     },
     "execution_count": 45,
     "metadata": {},
     "output_type": "execute_result"
    }
   ],
   "source": [
    "L = [] \n",
    "L1 = []\n",
    "\n",
    "b = sample(list(range(0,52)),2)\n",
    "b\n",
    "    "
   ]
  },
  {
   "cell_type": "code",
   "execution_count": 46,
   "metadata": {},
   "outputs": [
    {
     "data": {
      "text/plain": [
       "'♣Q'"
      ]
     },
     "execution_count": 46,
     "metadata": {},
     "output_type": "execute_result"
    }
   ],
   "source": [
    "c[b[0]]"
   ]
  },
  {
   "cell_type": "code",
   "execution_count": 47,
   "metadata": {},
   "outputs": [
    {
     "data": {
      "text/plain": [
       "'♥3'"
      ]
     },
     "execution_count": 47,
     "metadata": {},
     "output_type": "execute_result"
    }
   ],
   "source": [
    "c[b[1]]"
   ]
  },
  {
   "cell_type": "code",
   "execution_count": 32,
   "metadata": {},
   "outputs": [
    {
     "data": {
      "text/plain": [
       "[34, 5]"
      ]
     },
     "execution_count": 32,
     "metadata": {},
     "output_type": "execute_result"
    }
   ],
   "source": [
    "L1"
   ]
  },
  {
   "cell_type": "code",
   "execution_count": 72,
   "metadata": {},
   "outputs": [
    {
     "name": "stdout",
     "output_type": "stream",
     "text": [
      "17\n",
      "21\n"
     ]
    }
   ],
   "source": [
    "#n = (b[0] + 1) % 13\n",
    "#n1 = (b[1] + 1) % 13\n",
    "n = 6\n",
    "n1 = 1\n",
    "\n",
    "if n == 1 :\n",
    "    if n1 == 1:\n",
    "        total = 2\n",
    "        total1 = 12\n",
    "    elif n1 == 11 or n1 == 12 or n1 == 0:\n",
    "        n1 = 10\n",
    "        total = 11\n",
    "        #total1 = 21\n",
    "    else:\n",
    "        total = 1 + n1\n",
    "        total = 11 + n1\n",
    "    print(total)\n",
    "    print(total1)\n",
    "elif n1 == 1 :\n",
    "    if n == 1:\n",
    "        total = 2\n",
    "        total1 = 12\n",
    "    elif n == 11 or n == 12 or n == 0:\n",
    "        n = 10\n",
    "        total = 11\n",
    "        #total1 = 21\n",
    "    else:\n",
    "        total = 1 + n\n",
    "        total = 11 + n\n",
    "    print(total)\n",
    "    print(total1)\n",
    "\n",
    "elif n == 11 or n == 12 or n == 0:\n",
    "    n = 10\n",
    "    if n1 == 11 or n1 == 12 or n1 == 0:\n",
    "        n1 = 10\n",
    "    else:\n",
    "        n1 = n1\n",
    "    total = n + n1\n",
    "    print(total)\n",
    "    \n",
    "elif n1 == 11 or n1 == 12 or n1 == 0:\n",
    "    n1 = 10\n",
    "    total = n + n1\n",
    "    print(total)\n",
    "else:\n",
    "    total = n + n1 \n",
    "    print(total)\n",
    "    \n",
    "    "
   ]
  },
  {
   "cell_type": "code",
   "execution_count": null,
   "metadata": {},
   "outputs": [],
   "source": []
  },
  {
   "cell_type": "code",
   "execution_count": null,
   "metadata": {},
   "outputs": [],
   "source": []
  },
  {
   "cell_type": "code",
   "execution_count": null,
   "metadata": {},
   "outputs": [],
   "source": []
  },
  {
   "cell_type": "code",
   "execution_count": null,
   "metadata": {},
   "outputs": [],
   "source": []
  },
  {
   "cell_type": "code",
   "execution_count": null,
   "metadata": {},
   "outputs": [],
   "source": []
  },
  {
   "cell_type": "code",
   "execution_count": 28,
   "metadata": {},
   "outputs": [
    {
     "name": "stdout",
     "output_type": "stream",
     "text": [
      "♠10 ♦10\n",
      "17\n",
      "還要牌嗎?不要\n",
      "你這次拿了17點,you lose\n"
     ]
    }
   ],
   "source": [
    "L = [] \n",
    "L1 = []\n",
    "text = \" \"\n",
    "msg = \"\"\n",
    "txt = \"\"\n",
    "d = \"\"\n",
    "\n",
    "a = sample(list(range(0,52)),2)\n",
    "print(c[a[0]],c[a[1]])\n",
    "\n",
    "n = a[0] % 13\n",
    "n1 = a[1] % 13\n",
    "\n",
    "if n == 10 or n == 11 or n == 12: \n",
    "    n = 9\n",
    "elif n1 == 10 or n1 == 11 or n1 == 12:    \n",
    "    n1 = 9\n",
    "\n",
    "if n == 0 or n1 == 0:\n",
    "    total = n + n1 + 12\n",
    "    total1 = n + n1 + 2\n",
    "    print(total)\n",
    "    print(total1)\n",
    "    os.system(\"pause\")\n",
    "\n",
    "else:\n",
    "    total = n + n1 + 2\n",
    "    print(total)\n",
    "    os.system('pause')\n",
    "\n",
    "while d != \"不要\":\n",
    "    d = input(\"還要牌嗎?\")\n",
    "\n",
    "    if d == \"要\":\n",
    "        c1 = c\n",
    "        c1.pop(a[0])\n",
    "        c1.pop(a[1])\n",
    "        e = randint(0,49)\n",
    "        print(c1[e])\n",
    "        f = c.index(c1[e])\n",
    "        n2 = f % 13\n",
    "        total = total + n2 + 2\n",
    "        c1.pop(e)\n",
    "        print(f\"你已經拿了{total}點\")\n",
    "    elif d == \"不要\":\n",
    "        if total != 21:\n",
    "            txt = \"lose\"\n",
    "        else:\n",
    "            txt = \"win\"\n",
    "        print(f\"你這次拿了{total}點,you {txt}\")    "
   ]
  },
  {
   "cell_type": "code",
   "execution_count": 14,
   "metadata": {},
   "outputs": [
    {
     "data": {
      "text/plain": [
       "True"
      ]
     },
     "execution_count": 14,
     "metadata": {},
     "output_type": "execute_result"
    }
   ],
   "source": [
    "'♣6' in c"
   ]
  },
  {
   "cell_type": "code",
   "execution_count": 27,
   "metadata": {},
   "outputs": [
    {
     "ename": "ValueError",
     "evalue": "'♣6' is not in list",
     "output_type": "error",
     "traceback": [
      "\u001b[1;31m---------------------------------------------------------------------------\u001b[0m",
      "\u001b[1;31mValueError\u001b[0m                                Traceback (most recent call last)",
      "\u001b[1;32m<ipython-input-27-aeb6eced00d8>\u001b[0m in \u001b[0;36m<module>\u001b[1;34m\u001b[0m\n\u001b[1;32m----> 1\u001b[1;33m \u001b[0mc\u001b[0m\u001b[1;33m.\u001b[0m\u001b[0mindex\u001b[0m\u001b[1;33m(\u001b[0m\u001b[1;34m'♣6'\u001b[0m\u001b[1;33m)\u001b[0m\u001b[1;33m\u001b[0m\u001b[1;33m\u001b[0m\u001b[0m\n\u001b[0m",
      "\u001b[1;31mValueError\u001b[0m: '♣6' is not in list"
     ]
    }
   ],
   "source": [
    "c.index('♣6')"
   ]
  },
  {
   "cell_type": "code",
   "execution_count": 29,
   "metadata": {},
   "outputs": [],
   "source": [
    "class Card:    \n",
    "    SUITS = ['♠','♥','♣','♦']\n",
    "    RANKS = ['A','2','3','4','5','6','7','8','9','10','J','Q','K']\n",
    "    \n",
    "    def __init__(self,s,r):\n",
    "        self.suit = s\n",
    "        self.rank = r\n",
    "    \n",
    "    def __repr__(self):\n",
    "        thecard = self.SUITS[self.suit] + self.RANKS[self.rank]\n",
    "        return thecard"
   ]
  },
  {
   "cell_type": "code",
   "execution_count": null,
   "metadata": {},
   "outputs": [],
   "source": []
  },
  {
   "cell_type": "code",
   "execution_count": null,
   "metadata": {},
   "outputs": [],
   "source": []
  },
  {
   "cell_type": "code",
   "execution_count": null,
   "metadata": {},
   "outputs": [],
   "source": []
  },
  {
   "cell_type": "code",
   "execution_count": null,
   "metadata": {},
   "outputs": [],
   "source": []
  },
  {
   "cell_type": "code",
   "execution_count": null,
   "metadata": {},
   "outputs": [],
   "source": [
    "if n == 1 or n1 == 1:\n",
    "    if n == 1:\n",
    "        if n1 == 1:\n",
    "            t = 2\n",
    "            t1 = 12\n",
    "        elif n1 == 11 or n1 == 12 or n1 == 0:\n",
    "            t = 21\n",
    "            print(\"21\")\n",
    "            print(\"你贏了\")\n",
    "            \n",
    "            \n",
    "        else:\n",
    "            t = 1 + n1\n",
    "            t1 = 11 + n1\n",
    "        print(t)\n",
    "        print(t1)\n",
    "    else:\n",
    "        if n1 == 1:\n",
    "            t = 2\n",
    "            t1 = 12\n",
    "        elif n == 11 or n == 12 or n == 0:\n",
    "            t = 21\n",
    "            print(\"21\")\n",
    "            print(\"你贏了\")\n",
    "            break\n",
    "        else:\n",
    "            t = 1 + n\n",
    "            t1 = 11 + n\n",
    "        print(t)\n",
    "        print(t1)"
   ]
  },
  {
   "cell_type": "code",
   "execution_count": 79,
   "metadata": {},
   "outputs": [
    {
     "name": "stdout",
     "output_type": "stream",
     "text": [
      "20\n"
     ]
    }
   ],
   "source": [
    "n = 12\n",
    "n1 = 10\n",
    "\n",
    "if n == 1 :\n",
    "    if n1 == 11 or n1 == 12 or n1 == 0:\n",
    "        print(\"你拿了21點,你贏了\")\n",
    "    elif n1 == 1:\n",
    "        t1 = 2\n",
    "        t2 = 12\n",
    "        print(t1)\n",
    "        print(t2)\n",
    "    else:\n",
    "        t1 = 1 + n1\n",
    "        t2 = 11 + n1\n",
    "        print(t1)\n",
    "        print(t2)\n",
    "#第一張是A的情況\n",
    "\n",
    "elif n1 == 1 :\n",
    "    if n == 11 or n == 12 or n == 0:\n",
    "        print(\"你拿了21點,你贏了\")\n",
    "    elif n == 1:\n",
    "        t1 = 2\n",
    "        t2 = 12\n",
    "        print(t1)\n",
    "        print(t2)\n",
    "    else:\n",
    "        t1 = 1 + n\n",
    "        t2 = 11 + n\n",
    "        print(t1)\n",
    "        print(t2)\n",
    "#第二張是A的情況 \n",
    "\n",
    "elif (n == 11 or n == 12 or n == 0) and n1 != 1:\n",
    "    if n1 == 11 or n1 == 12 or n1 == 0:\n",
    "        t1 = 20\n",
    "        print(t1)\n",
    "    else:\n",
    "        n = 10\n",
    "        t1 = n + n1\n",
    "        print(t1)\n",
    "elif (n1 == 11 or n1 == 12 or n1 == 0) and n != 1:\n",
    "    if n == 11 or n == 12 or n == 0:\n",
    "        t1 = 20\n",
    "        print(t1)\n",
    "    else:\n",
    "        n1 = 10\n",
    "        t1 = n + n1\n",
    "        print(t1)\n",
    "else:\n",
    "    t1 =  n + n1\n",
    "    print(t1)"
   ]
  },
  {
   "cell_type": "code",
   "execution_count": null,
   "metadata": {},
   "outputs": [],
   "source": []
  }
 ],
 "metadata": {
  "kernelspec": {
   "display_name": "Python 3",
   "language": "python",
   "name": "python3"
  },
  "language_info": {
   "codemirror_mode": {
    "name": "ipython",
    "version": 3
   },
   "file_extension": ".py",
   "mimetype": "text/x-python",
   "name": "python",
   "nbconvert_exporter": "python",
   "pygments_lexer": "ipython3",
   "version": "3.7.3"
  }
 },
 "nbformat": 4,
 "nbformat_minor": 2
}
